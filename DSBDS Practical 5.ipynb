{
 "cells": [
  {
   "cell_type": "code",
   "execution_count": 207,
   "id": "8794c999-aaea-458d-9711-1c8dd607e917",
   "metadata": {},
   "outputs": [],
   "source": [
    "import pandas as pd\n",
    "import numpy as np\n",
    "import matplotlib.pyplot as plt\n",
    "import seaborn as sns\n",
    "import warnings\n",
    "warnings.filterwarnings(\"ignore\")\n"
   ]
  },
  {
   "cell_type": "code",
   "execution_count": 109,
   "id": "48d2fe04-b666-4e2a-b225-a82a879cd2f9",
   "metadata": {},
   "outputs": [],
   "source": [
    "dataset = pd.read_csv(r\"C:\\Users\\LENOVO\\Desktop\\ads.csv\")\n"
   ]
  },
  {
   "cell_type": "code",
   "execution_count": 111,
   "id": "995e0a5e-9b59-48cf-a85a-218a9d760393",
   "metadata": {},
   "outputs": [
    {
     "data": {
      "text/html": [
       "<div>\n",
       "<style scoped>\n",
       "    .dataframe tbody tr th:only-of-type {\n",
       "        vertical-align: middle;\n",
       "    }\n",
       "\n",
       "    .dataframe tbody tr th {\n",
       "        vertical-align: top;\n",
       "    }\n",
       "\n",
       "    .dataframe thead th {\n",
       "        text-align: right;\n",
       "    }\n",
       "</style>\n",
       "<table border=\"1\" class=\"dataframe\">\n",
       "  <thead>\n",
       "    <tr style=\"text-align: right;\">\n",
       "      <th></th>\n",
       "      <th>User ID</th>\n",
       "      <th>Gender</th>\n",
       "      <th>Age</th>\n",
       "      <th>Estimated Salary</th>\n",
       "      <th>Purchased</th>\n",
       "    </tr>\n",
       "  </thead>\n",
       "  <tbody>\n",
       "    <tr>\n",
       "      <th>0</th>\n",
       "      <td>1640920</td>\n",
       "      <td>male</td>\n",
       "      <td>50</td>\n",
       "      <td>50547</td>\n",
       "      <td>0</td>\n",
       "    </tr>\n",
       "    <tr>\n",
       "      <th>1</th>\n",
       "      <td>6143642</td>\n",
       "      <td>female</td>\n",
       "      <td>56</td>\n",
       "      <td>57662</td>\n",
       "      <td>1</td>\n",
       "    </tr>\n",
       "    <tr>\n",
       "      <th>2</th>\n",
       "      <td>243078</td>\n",
       "      <td>male</td>\n",
       "      <td>16</td>\n",
       "      <td>69780</td>\n",
       "      <td>2</td>\n",
       "    </tr>\n",
       "    <tr>\n",
       "      <th>3</th>\n",
       "      <td>4904679</td>\n",
       "      <td>male</td>\n",
       "      <td>29</td>\n",
       "      <td>62335</td>\n",
       "      <td>1</td>\n",
       "    </tr>\n",
       "    <tr>\n",
       "      <th>4</th>\n",
       "      <td>1592421</td>\n",
       "      <td>female</td>\n",
       "      <td>51</td>\n",
       "      <td>71658</td>\n",
       "      <td>1</td>\n",
       "    </tr>\n",
       "    <tr>\n",
       "      <th>5</th>\n",
       "      <td>416985</td>\n",
       "      <td>male</td>\n",
       "      <td>49</td>\n",
       "      <td>69081</td>\n",
       "      <td>1</td>\n",
       "    </tr>\n",
       "    <tr>\n",
       "      <th>6</th>\n",
       "      <td>1283211</td>\n",
       "      <td>male</td>\n",
       "      <td>16</td>\n",
       "      <td>20952</td>\n",
       "      <td>1</td>\n",
       "    </tr>\n",
       "    <tr>\n",
       "      <th>7</th>\n",
       "      <td>2942878</td>\n",
       "      <td>female</td>\n",
       "      <td>52</td>\n",
       "      <td>36088</td>\n",
       "      <td>2</td>\n",
       "    </tr>\n",
       "    <tr>\n",
       "      <th>8</th>\n",
       "      <td>5871392</td>\n",
       "      <td>female</td>\n",
       "      <td>18</td>\n",
       "      <td>44081</td>\n",
       "      <td>3</td>\n",
       "    </tr>\n",
       "    <tr>\n",
       "      <th>9</th>\n",
       "      <td>5937236</td>\n",
       "      <td>female</td>\n",
       "      <td>57</td>\n",
       "      <td>27295</td>\n",
       "      <td>1</td>\n",
       "    </tr>\n",
       "    <tr>\n",
       "      <th>10</th>\n",
       "      <td>182799</td>\n",
       "      <td>male</td>\n",
       "      <td>49</td>\n",
       "      <td>22689</td>\n",
       "      <td>1</td>\n",
       "    </tr>\n",
       "    <tr>\n",
       "      <th>11</th>\n",
       "      <td>3942669</td>\n",
       "      <td>male</td>\n",
       "      <td>32</td>\n",
       "      <td>66868</td>\n",
       "      <td>0</td>\n",
       "    </tr>\n",
       "    <tr>\n",
       "      <th>12</th>\n",
       "      <td>5628030</td>\n",
       "      <td>female</td>\n",
       "      <td>22</td>\n",
       "      <td>76375</td>\n",
       "      <td>0</td>\n",
       "    </tr>\n",
       "    <tr>\n",
       "      <th>13</th>\n",
       "      <td>3999054</td>\n",
       "      <td>female</td>\n",
       "      <td>19</td>\n",
       "      <td>40866</td>\n",
       "      <td>1</td>\n",
       "    </tr>\n",
       "    <tr>\n",
       "      <th>14</th>\n",
       "      <td>176166</td>\n",
       "      <td>male</td>\n",
       "      <td>22</td>\n",
       "      <td>29640</td>\n",
       "      <td>3</td>\n",
       "    </tr>\n",
       "    <tr>\n",
       "      <th>15</th>\n",
       "      <td>2324081</td>\n",
       "      <td>female</td>\n",
       "      <td>36</td>\n",
       "      <td>56554</td>\n",
       "      <td>1</td>\n",
       "    </tr>\n",
       "    <tr>\n",
       "      <th>16</th>\n",
       "      <td>1352201</td>\n",
       "      <td>male</td>\n",
       "      <td>23</td>\n",
       "      <td>63578</td>\n",
       "      <td>2</td>\n",
       "    </tr>\n",
       "    <tr>\n",
       "      <th>17</th>\n",
       "      <td>260503</td>\n",
       "      <td>male</td>\n",
       "      <td>13</td>\n",
       "      <td>25791</td>\n",
       "      <td>1</td>\n",
       "    </tr>\n",
       "    <tr>\n",
       "      <th>18</th>\n",
       "      <td>2849891</td>\n",
       "      <td>female</td>\n",
       "      <td>47</td>\n",
       "      <td>75996</td>\n",
       "      <td>2</td>\n",
       "    </tr>\n",
       "    <tr>\n",
       "      <th>19</th>\n",
       "      <td>294205</td>\n",
       "      <td>male</td>\n",
       "      <td>55</td>\n",
       "      <td>27329</td>\n",
       "      <td>0</td>\n",
       "    </tr>\n",
       "    <tr>\n",
       "      <th>20</th>\n",
       "      <td>6165216</td>\n",
       "      <td>female</td>\n",
       "      <td>17</td>\n",
       "      <td>49691</td>\n",
       "      <td>3</td>\n",
       "    </tr>\n",
       "    <tr>\n",
       "      <th>21</th>\n",
       "      <td>3848435</td>\n",
       "      <td>male</td>\n",
       "      <td>38</td>\n",
       "      <td>85038</td>\n",
       "      <td>3</td>\n",
       "    </tr>\n",
       "    <tr>\n",
       "      <th>22</th>\n",
       "      <td>6356011</td>\n",
       "      <td>male</td>\n",
       "      <td>37</td>\n",
       "      <td>13013</td>\n",
       "      <td>0</td>\n",
       "    </tr>\n",
       "    <tr>\n",
       "      <th>23</th>\n",
       "      <td>987423</td>\n",
       "      <td>male</td>\n",
       "      <td>49</td>\n",
       "      <td>39767</td>\n",
       "      <td>3</td>\n",
       "    </tr>\n",
       "  </tbody>\n",
       "</table>\n",
       "</div>"
      ],
      "text/plain": [
       "    User ID  Gender  Age  Estimated Salary  Purchased\n",
       "0   1640920    male   50             50547          0\n",
       "1   6143642  female   56             57662          1\n",
       "2    243078    male   16             69780          2\n",
       "3   4904679    male   29             62335          1\n",
       "4   1592421  female   51             71658          1\n",
       "5    416985    male   49             69081          1\n",
       "6   1283211    male   16             20952          1\n",
       "7   2942878  female   52             36088          2\n",
       "8   5871392  female   18             44081          3\n",
       "9   5937236  female   57             27295          1\n",
       "10   182799    male   49             22689          1\n",
       "11  3942669    male   32             66868          0\n",
       "12  5628030  female   22             76375          0\n",
       "13  3999054  female   19             40866          1\n",
       "14   176166    male   22             29640          3\n",
       "15  2324081  female   36             56554          1\n",
       "16  1352201    male   23             63578          2\n",
       "17   260503    male   13             25791          1\n",
       "18  2849891  female   47             75996          2\n",
       "19   294205    male   55             27329          0\n",
       "20  6165216  female   17             49691          3\n",
       "21  3848435    male   38             85038          3\n",
       "22  6356011    male   37             13013          0\n",
       "23   987423    male   49             39767          3"
      ]
     },
     "execution_count": 111,
     "metadata": {},
     "output_type": "execute_result"
    }
   ],
   "source": [
    "dataset"
   ]
  },
  {
   "cell_type": "code",
   "execution_count": 113,
   "id": "1acc1d99-4899-4709-9d7c-add0c3a422cb",
   "metadata": {},
   "outputs": [
    {
     "data": {
      "text/html": [
       "<div>\n",
       "<style scoped>\n",
       "    .dataframe tbody tr th:only-of-type {\n",
       "        vertical-align: middle;\n",
       "    }\n",
       "\n",
       "    .dataframe tbody tr th {\n",
       "        vertical-align: top;\n",
       "    }\n",
       "\n",
       "    .dataframe thead th {\n",
       "        text-align: right;\n",
       "    }\n",
       "</style>\n",
       "<table border=\"1\" class=\"dataframe\">\n",
       "  <thead>\n",
       "    <tr style=\"text-align: right;\">\n",
       "      <th></th>\n",
       "      <th>User ID</th>\n",
       "      <th>Gender</th>\n",
       "      <th>Age</th>\n",
       "      <th>Estimated Salary</th>\n",
       "      <th>Purchased</th>\n",
       "    </tr>\n",
       "  </thead>\n",
       "  <tbody>\n",
       "    <tr>\n",
       "      <th>0</th>\n",
       "      <td>1640920</td>\n",
       "      <td>male</td>\n",
       "      <td>50</td>\n",
       "      <td>50547</td>\n",
       "      <td>0</td>\n",
       "    </tr>\n",
       "    <tr>\n",
       "      <th>1</th>\n",
       "      <td>6143642</td>\n",
       "      <td>female</td>\n",
       "      <td>56</td>\n",
       "      <td>57662</td>\n",
       "      <td>1</td>\n",
       "    </tr>\n",
       "    <tr>\n",
       "      <th>2</th>\n",
       "      <td>243078</td>\n",
       "      <td>male</td>\n",
       "      <td>16</td>\n",
       "      <td>69780</td>\n",
       "      <td>2</td>\n",
       "    </tr>\n",
       "    <tr>\n",
       "      <th>3</th>\n",
       "      <td>4904679</td>\n",
       "      <td>male</td>\n",
       "      <td>29</td>\n",
       "      <td>62335</td>\n",
       "      <td>1</td>\n",
       "    </tr>\n",
       "    <tr>\n",
       "      <th>4</th>\n",
       "      <td>1592421</td>\n",
       "      <td>female</td>\n",
       "      <td>51</td>\n",
       "      <td>71658</td>\n",
       "      <td>1</td>\n",
       "    </tr>\n",
       "  </tbody>\n",
       "</table>\n",
       "</div>"
      ],
      "text/plain": [
       "   User ID  Gender  Age  Estimated Salary  Purchased\n",
       "0  1640920    male   50             50547          0\n",
       "1  6143642  female   56             57662          1\n",
       "2   243078    male   16             69780          2\n",
       "3  4904679    male   29             62335          1\n",
       "4  1592421  female   51             71658          1"
      ]
     },
     "execution_count": 113,
     "metadata": {},
     "output_type": "execute_result"
    }
   ],
   "source": [
    "dataset.head()\n"
   ]
  },
  {
   "cell_type": "code",
   "execution_count": 115,
   "id": "9e845fff-9709-421c-9ea2-891bf8b4eeea",
   "metadata": {},
   "outputs": [
    {
     "data": {
      "text/html": [
       "<div>\n",
       "<style scoped>\n",
       "    .dataframe tbody tr th:only-of-type {\n",
       "        vertical-align: middle;\n",
       "    }\n",
       "\n",
       "    .dataframe tbody tr th {\n",
       "        vertical-align: top;\n",
       "    }\n",
       "\n",
       "    .dataframe thead th {\n",
       "        text-align: right;\n",
       "    }\n",
       "</style>\n",
       "<table border=\"1\" class=\"dataframe\">\n",
       "  <thead>\n",
       "    <tr style=\"text-align: right;\">\n",
       "      <th></th>\n",
       "      <th>User ID</th>\n",
       "      <th>Gender</th>\n",
       "      <th>Age</th>\n",
       "      <th>Estimated Salary</th>\n",
       "      <th>Purchased</th>\n",
       "    </tr>\n",
       "  </thead>\n",
       "  <tbody>\n",
       "    <tr>\n",
       "      <th>19</th>\n",
       "      <td>294205</td>\n",
       "      <td>male</td>\n",
       "      <td>55</td>\n",
       "      <td>27329</td>\n",
       "      <td>0</td>\n",
       "    </tr>\n",
       "    <tr>\n",
       "      <th>20</th>\n",
       "      <td>6165216</td>\n",
       "      <td>female</td>\n",
       "      <td>17</td>\n",
       "      <td>49691</td>\n",
       "      <td>3</td>\n",
       "    </tr>\n",
       "    <tr>\n",
       "      <th>21</th>\n",
       "      <td>3848435</td>\n",
       "      <td>male</td>\n",
       "      <td>38</td>\n",
       "      <td>85038</td>\n",
       "      <td>3</td>\n",
       "    </tr>\n",
       "    <tr>\n",
       "      <th>22</th>\n",
       "      <td>6356011</td>\n",
       "      <td>male</td>\n",
       "      <td>37</td>\n",
       "      <td>13013</td>\n",
       "      <td>0</td>\n",
       "    </tr>\n",
       "    <tr>\n",
       "      <th>23</th>\n",
       "      <td>987423</td>\n",
       "      <td>male</td>\n",
       "      <td>49</td>\n",
       "      <td>39767</td>\n",
       "      <td>3</td>\n",
       "    </tr>\n",
       "  </tbody>\n",
       "</table>\n",
       "</div>"
      ],
      "text/plain": [
       "    User ID  Gender  Age  Estimated Salary  Purchased\n",
       "19   294205    male   55             27329          0\n",
       "20  6165216  female   17             49691          3\n",
       "21  3848435    male   38             85038          3\n",
       "22  6356011    male   37             13013          0\n",
       "23   987423    male   49             39767          3"
      ]
     },
     "execution_count": 115,
     "metadata": {},
     "output_type": "execute_result"
    }
   ],
   "source": [
    "dataset.tail()"
   ]
  },
  {
   "cell_type": "code",
   "execution_count": 117,
   "id": "1058e80e-0110-4671-bd82-8a1c0b595273",
   "metadata": {},
   "outputs": [
    {
     "name": "stdout",
     "output_type": "stream",
     "text": [
      "<class 'pandas.core.frame.DataFrame'>\n",
      "RangeIndex: 24 entries, 0 to 23\n",
      "Data columns (total 5 columns):\n",
      " #   Column            Non-Null Count  Dtype \n",
      "---  ------            --------------  ----- \n",
      " 0   User ID           24 non-null     int64 \n",
      " 1   Gender            24 non-null     object\n",
      " 2   Age               24 non-null     int64 \n",
      " 3   Estimated Salary  24 non-null     int64 \n",
      " 4   Purchased         24 non-null     int64 \n",
      "dtypes: int64(4), object(1)\n",
      "memory usage: 1.1+ KB\n"
     ]
    }
   ],
   "source": [
    "dataset.info()"
   ]
  },
  {
   "cell_type": "code",
   "execution_count": 119,
   "id": "81938773-813d-47c8-9525-ceab20f9ea40",
   "metadata": {},
   "outputs": [
    {
     "data": {
      "text/html": [
       "<div>\n",
       "<style scoped>\n",
       "    .dataframe tbody tr th:only-of-type {\n",
       "        vertical-align: middle;\n",
       "    }\n",
       "\n",
       "    .dataframe tbody tr th {\n",
       "        vertical-align: top;\n",
       "    }\n",
       "\n",
       "    .dataframe thead th {\n",
       "        text-align: right;\n",
       "    }\n",
       "</style>\n",
       "<table border=\"1\" class=\"dataframe\">\n",
       "  <thead>\n",
       "    <tr style=\"text-align: right;\">\n",
       "      <th></th>\n",
       "      <th>User ID</th>\n",
       "      <th>Age</th>\n",
       "      <th>Estimated Salary</th>\n",
       "      <th>Purchased</th>\n",
       "    </tr>\n",
       "  </thead>\n",
       "  <tbody>\n",
       "    <tr>\n",
       "      <th>count</th>\n",
       "      <td>2.400000e+01</td>\n",
       "      <td>24.000000</td>\n",
       "      <td>24.000000</td>\n",
       "      <td>24.000000</td>\n",
       "    </tr>\n",
       "    <tr>\n",
       "      <th>mean</th>\n",
       "      <td>2.889297e+06</td>\n",
       "      <td>35.541667</td>\n",
       "      <td>49278.083333</td>\n",
       "      <td>1.375000</td>\n",
       "    </tr>\n",
       "    <tr>\n",
       "      <th>std</th>\n",
       "      <td>2.283366e+06</td>\n",
       "      <td>15.373549</td>\n",
       "      <td>20787.351878</td>\n",
       "      <td>1.055524</td>\n",
       "    </tr>\n",
       "    <tr>\n",
       "      <th>min</th>\n",
       "      <td>1.761660e+05</td>\n",
       "      <td>13.000000</td>\n",
       "      <td>13013.000000</td>\n",
       "      <td>0.000000</td>\n",
       "    </tr>\n",
       "    <tr>\n",
       "      <th>25%</th>\n",
       "      <td>8.448135e+05</td>\n",
       "      <td>21.250000</td>\n",
       "      <td>29062.250000</td>\n",
       "      <td>1.000000</td>\n",
       "    </tr>\n",
       "    <tr>\n",
       "      <th>50%</th>\n",
       "      <td>2.586986e+06</td>\n",
       "      <td>36.500000</td>\n",
       "      <td>50119.000000</td>\n",
       "      <td>1.000000</td>\n",
       "    </tr>\n",
       "    <tr>\n",
       "      <th>75%</th>\n",
       "      <td>5.085517e+06</td>\n",
       "      <td>49.250000</td>\n",
       "      <td>67421.250000</td>\n",
       "      <td>2.000000</td>\n",
       "    </tr>\n",
       "    <tr>\n",
       "      <th>max</th>\n",
       "      <td>6.356011e+06</td>\n",
       "      <td>57.000000</td>\n",
       "      <td>85038.000000</td>\n",
       "      <td>3.000000</td>\n",
       "    </tr>\n",
       "  </tbody>\n",
       "</table>\n",
       "</div>"
      ],
      "text/plain": [
       "            User ID        Age  Estimated Salary  Purchased\n",
       "count  2.400000e+01  24.000000         24.000000  24.000000\n",
       "mean   2.889297e+06  35.541667      49278.083333   1.375000\n",
       "std    2.283366e+06  15.373549      20787.351878   1.055524\n",
       "min    1.761660e+05  13.000000      13013.000000   0.000000\n",
       "25%    8.448135e+05  21.250000      29062.250000   1.000000\n",
       "50%    2.586986e+06  36.500000      50119.000000   1.000000\n",
       "75%    5.085517e+06  49.250000      67421.250000   2.000000\n",
       "max    6.356011e+06  57.000000      85038.000000   3.000000"
      ]
     },
     "execution_count": 119,
     "metadata": {},
     "output_type": "execute_result"
    }
   ],
   "source": [
    "dataset.describe()"
   ]
  },
  {
   "cell_type": "code",
   "execution_count": 121,
   "id": "7e3b1df2-0e6e-40e4-8c85-856eb7507f94",
   "metadata": {},
   "outputs": [
    {
     "data": {
      "text/plain": [
       "Purchased\n",
       "1    0.416667\n",
       "0    0.208333\n",
       "3    0.208333\n",
       "2    0.166667\n",
       "Name: proportion, dtype: float64"
      ]
     },
     "execution_count": 121,
     "metadata": {},
     "output_type": "execute_result"
    }
   ],
   "source": [
    "dataset[\"Purchased\"].value_counts(normalize=True)"
   ]
  },
  {
   "cell_type": "code",
   "execution_count": 123,
   "id": "40cb89a9-137e-43ab-a696-bc3bbe3fa493",
   "metadata": {},
   "outputs": [],
   "source": [
    "x=dataset.drop([\"Purchased\"],axis=1)"
   ]
  },
  {
   "cell_type": "code",
   "execution_count": 125,
   "id": "ef36067e-ad2d-416a-9a36-6915a5d3bcb1",
   "metadata": {},
   "outputs": [],
   "source": [
    "y=dataset[\"Purchased\"]"
   ]
  },
  {
   "cell_type": "code",
   "execution_count": 127,
   "id": "c2a010c9-21c5-467e-bed4-1082bab608ce",
   "metadata": {},
   "outputs": [
    {
     "data": {
      "text/html": [
       "<div>\n",
       "<style scoped>\n",
       "    .dataframe tbody tr th:only-of-type {\n",
       "        vertical-align: middle;\n",
       "    }\n",
       "\n",
       "    .dataframe tbody tr th {\n",
       "        vertical-align: top;\n",
       "    }\n",
       "\n",
       "    .dataframe thead th {\n",
       "        text-align: right;\n",
       "    }\n",
       "</style>\n",
       "<table border=\"1\" class=\"dataframe\">\n",
       "  <thead>\n",
       "    <tr style=\"text-align: right;\">\n",
       "      <th></th>\n",
       "      <th>User ID</th>\n",
       "      <th>Gender</th>\n",
       "      <th>Age</th>\n",
       "      <th>Estimated Salary</th>\n",
       "    </tr>\n",
       "  </thead>\n",
       "  <tbody>\n",
       "    <tr>\n",
       "      <th>0</th>\n",
       "      <td>1640920</td>\n",
       "      <td>male</td>\n",
       "      <td>50</td>\n",
       "      <td>50547</td>\n",
       "    </tr>\n",
       "    <tr>\n",
       "      <th>1</th>\n",
       "      <td>6143642</td>\n",
       "      <td>female</td>\n",
       "      <td>56</td>\n",
       "      <td>57662</td>\n",
       "    </tr>\n",
       "    <tr>\n",
       "      <th>2</th>\n",
       "      <td>243078</td>\n",
       "      <td>male</td>\n",
       "      <td>16</td>\n",
       "      <td>69780</td>\n",
       "    </tr>\n",
       "    <tr>\n",
       "      <th>3</th>\n",
       "      <td>4904679</td>\n",
       "      <td>male</td>\n",
       "      <td>29</td>\n",
       "      <td>62335</td>\n",
       "    </tr>\n",
       "    <tr>\n",
       "      <th>4</th>\n",
       "      <td>1592421</td>\n",
       "      <td>female</td>\n",
       "      <td>51</td>\n",
       "      <td>71658</td>\n",
       "    </tr>\n",
       "    <tr>\n",
       "      <th>5</th>\n",
       "      <td>416985</td>\n",
       "      <td>male</td>\n",
       "      <td>49</td>\n",
       "      <td>69081</td>\n",
       "    </tr>\n",
       "    <tr>\n",
       "      <th>6</th>\n",
       "      <td>1283211</td>\n",
       "      <td>male</td>\n",
       "      <td>16</td>\n",
       "      <td>20952</td>\n",
       "    </tr>\n",
       "    <tr>\n",
       "      <th>7</th>\n",
       "      <td>2942878</td>\n",
       "      <td>female</td>\n",
       "      <td>52</td>\n",
       "      <td>36088</td>\n",
       "    </tr>\n",
       "    <tr>\n",
       "      <th>8</th>\n",
       "      <td>5871392</td>\n",
       "      <td>female</td>\n",
       "      <td>18</td>\n",
       "      <td>44081</td>\n",
       "    </tr>\n",
       "    <tr>\n",
       "      <th>9</th>\n",
       "      <td>5937236</td>\n",
       "      <td>female</td>\n",
       "      <td>57</td>\n",
       "      <td>27295</td>\n",
       "    </tr>\n",
       "    <tr>\n",
       "      <th>10</th>\n",
       "      <td>182799</td>\n",
       "      <td>male</td>\n",
       "      <td>49</td>\n",
       "      <td>22689</td>\n",
       "    </tr>\n",
       "    <tr>\n",
       "      <th>11</th>\n",
       "      <td>3942669</td>\n",
       "      <td>male</td>\n",
       "      <td>32</td>\n",
       "      <td>66868</td>\n",
       "    </tr>\n",
       "    <tr>\n",
       "      <th>12</th>\n",
       "      <td>5628030</td>\n",
       "      <td>female</td>\n",
       "      <td>22</td>\n",
       "      <td>76375</td>\n",
       "    </tr>\n",
       "    <tr>\n",
       "      <th>13</th>\n",
       "      <td>3999054</td>\n",
       "      <td>female</td>\n",
       "      <td>19</td>\n",
       "      <td>40866</td>\n",
       "    </tr>\n",
       "    <tr>\n",
       "      <th>14</th>\n",
       "      <td>176166</td>\n",
       "      <td>male</td>\n",
       "      <td>22</td>\n",
       "      <td>29640</td>\n",
       "    </tr>\n",
       "    <tr>\n",
       "      <th>15</th>\n",
       "      <td>2324081</td>\n",
       "      <td>female</td>\n",
       "      <td>36</td>\n",
       "      <td>56554</td>\n",
       "    </tr>\n",
       "    <tr>\n",
       "      <th>16</th>\n",
       "      <td>1352201</td>\n",
       "      <td>male</td>\n",
       "      <td>23</td>\n",
       "      <td>63578</td>\n",
       "    </tr>\n",
       "    <tr>\n",
       "      <th>17</th>\n",
       "      <td>260503</td>\n",
       "      <td>male</td>\n",
       "      <td>13</td>\n",
       "      <td>25791</td>\n",
       "    </tr>\n",
       "    <tr>\n",
       "      <th>18</th>\n",
       "      <td>2849891</td>\n",
       "      <td>female</td>\n",
       "      <td>47</td>\n",
       "      <td>75996</td>\n",
       "    </tr>\n",
       "    <tr>\n",
       "      <th>19</th>\n",
       "      <td>294205</td>\n",
       "      <td>male</td>\n",
       "      <td>55</td>\n",
       "      <td>27329</td>\n",
       "    </tr>\n",
       "    <tr>\n",
       "      <th>20</th>\n",
       "      <td>6165216</td>\n",
       "      <td>female</td>\n",
       "      <td>17</td>\n",
       "      <td>49691</td>\n",
       "    </tr>\n",
       "    <tr>\n",
       "      <th>21</th>\n",
       "      <td>3848435</td>\n",
       "      <td>male</td>\n",
       "      <td>38</td>\n",
       "      <td>85038</td>\n",
       "    </tr>\n",
       "    <tr>\n",
       "      <th>22</th>\n",
       "      <td>6356011</td>\n",
       "      <td>male</td>\n",
       "      <td>37</td>\n",
       "      <td>13013</td>\n",
       "    </tr>\n",
       "    <tr>\n",
       "      <th>23</th>\n",
       "      <td>987423</td>\n",
       "      <td>male</td>\n",
       "      <td>49</td>\n",
       "      <td>39767</td>\n",
       "    </tr>\n",
       "  </tbody>\n",
       "</table>\n",
       "</div>"
      ],
      "text/plain": [
       "    User ID  Gender  Age  Estimated Salary\n",
       "0   1640920    male   50             50547\n",
       "1   6143642  female   56             57662\n",
       "2    243078    male   16             69780\n",
       "3   4904679    male   29             62335\n",
       "4   1592421  female   51             71658\n",
       "5    416985    male   49             69081\n",
       "6   1283211    male   16             20952\n",
       "7   2942878  female   52             36088\n",
       "8   5871392  female   18             44081\n",
       "9   5937236  female   57             27295\n",
       "10   182799    male   49             22689\n",
       "11  3942669    male   32             66868\n",
       "12  5628030  female   22             76375\n",
       "13  3999054  female   19             40866\n",
       "14   176166    male   22             29640\n",
       "15  2324081  female   36             56554\n",
       "16  1352201    male   23             63578\n",
       "17   260503    male   13             25791\n",
       "18  2849891  female   47             75996\n",
       "19   294205    male   55             27329\n",
       "20  6165216  female   17             49691\n",
       "21  3848435    male   38             85038\n",
       "22  6356011    male   37             13013\n",
       "23   987423    male   49             39767"
      ]
     },
     "execution_count": 127,
     "metadata": {},
     "output_type": "execute_result"
    }
   ],
   "source": [
    "x"
   ]
  },
  {
   "cell_type": "code",
   "execution_count": 129,
   "id": "bf8ec9fe-6290-4f45-9309-bb23e71af956",
   "metadata": {},
   "outputs": [
    {
     "data": {
      "text/plain": [
       "0     0\n",
       "1     1\n",
       "2     2\n",
       "3     1\n",
       "4     1\n",
       "5     1\n",
       "6     1\n",
       "7     2\n",
       "8     3\n",
       "9     1\n",
       "10    1\n",
       "11    0\n",
       "12    0\n",
       "13    1\n",
       "14    3\n",
       "15    1\n",
       "16    2\n",
       "17    1\n",
       "18    2\n",
       "19    0\n",
       "20    3\n",
       "21    3\n",
       "22    0\n",
       "23    3\n",
       "Name: Purchased, dtype: int64"
      ]
     },
     "execution_count": 129,
     "metadata": {},
     "output_type": "execute_result"
    }
   ],
   "source": [
    "y\n"
   ]
  },
  {
   "cell_type": "code",
   "execution_count": 131,
   "id": "77b98919-fc98-4fb2-bb1f-e8c962dfd913",
   "metadata": {},
   "outputs": [
    {
     "name": "stdout",
     "output_type": "stream",
     "text": [
      "[[   50 50547]\n",
      " [   56 57662]\n",
      " [   16 69780]]\n",
      "---------------\n",
      "[0 1 2]\n"
     ]
    }
   ],
   "source": [
    "X = dataset.iloc[:, [2, 3]].values\n",
    "y = dataset.iloc[:, 4].values\n",
    "\n",
    "print(X[:3, :])\n",
    "print('-'*15)\n",
    "print(y[:3])"
   ]
  },
  {
   "cell_type": "code",
   "execution_count": 133,
   "id": "d2cabff4-5250-4105-80e1-7e36174317a5",
   "metadata": {},
   "outputs": [
    {
     "name": "stdout",
     "output_type": "stream",
     "text": [
      "[[   19 40866]\n",
      " [   49 39767]\n",
      " [   23 63578]]\n",
      "---------------\n",
      "[1 3 2]\n",
      "---------------\n",
      "[[   32 66868]\n",
      " [   49 22689]\n",
      " [   37 13013]]\n",
      "---------------\n",
      "[0 1 0]\n"
     ]
    }
   ],
   "source": [
    "from sklearn.model_selection import train_test_split\n",
    "X_train, X_test, y_train, y_test = train_test_split(X, y, test_size = 0.25, random_state = 0)\n",
    "\n",
    "print(X_train[:3])\n",
    "print('-'*15)\n",
    "print(y_train[:3])\n",
    "print('-'*15)\n",
    "print(X_test[:3])\n",
    "print('-'*15)\n",
    "print(y_test[:3])"
   ]
  },
  {
   "cell_type": "code",
   "execution_count": 135,
   "id": "0f7d2bca-ddaa-4e45-983a-2d9b2fc65707",
   "metadata": {},
   "outputs": [],
   "source": [
    "from sklearn.preprocessing import StandardScaler\n",
    "sc_X = StandardScaler()\n",
    "X_train = sc_X.fit_transform(X_train)\n",
    "X_test = sc_X.transform(X_test)"
   ]
  },
  {
   "cell_type": "code",
   "execution_count": 137,
   "id": "36c43420-39fb-4011-835a-5021da369999",
   "metadata": {},
   "outputs": [
    {
     "name": "stdout",
     "output_type": "stream",
     "text": [
      "[[-1.0718315  -0.58563098]\n",
      " [ 0.8704135  -0.64145588]\n",
      " [-0.8128655   0.56804988]]\n",
      "---------------\n",
      "[[-0.230192    0.73516903]\n",
      " [ 0.8704135  -1.50895156]\n",
      " [ 0.0935155  -2.00045455]]\n"
     ]
    }
   ],
   "source": [
    "print(X_train[:3])\n",
    "print('-'*15)\n",
    "print(X_test[:3])\n"
   ]
  },
  {
   "cell_type": "code",
   "execution_count": 147,
   "id": "e0398a97-3b0b-46ef-87a8-48d8d08bc673",
   "metadata": {},
   "outputs": [
    {
     "name": "stdout",
     "output_type": "stream",
     "text": [
      "[[-0.230192    0.73516903]\n",
      " [ 0.8704135  -1.50895156]\n",
      " [ 0.0935155  -2.00045455]\n",
      " [-0.877607   -1.15586791]\n",
      " [-1.2013145  -0.13735546]\n",
      " [ 1.323604    0.2675402 ]]\n",
      "---------------\n",
      "[1 1 1 1 1 1]\n"
     ]
    }
   ],
   "source": [
    "from sklearn.linear_model import LogisticRegression\n",
    "logreg = LogisticRegression()\n",
    "logreg.fit(X_train, y_train)\n",
    "y_pred = logreg.predict(X_test)\n",
    "\n",
    "print(X_test[:10])\n",
    "print('-'*15)\n",
    "print(y_pred[:10])"
   ]
  },
  {
   "cell_type": "code",
   "execution_count": 157,
   "id": "ce5b83d6-8893-4615-8842-90fa34f21764",
   "metadata": {},
   "outputs": [
    {
     "data": {
      "text/plain": [
       "array([0, 1, 0, 3, 3, 1], dtype=int64)"
      ]
     },
     "execution_count": 157,
     "metadata": {},
     "output_type": "execute_result"
    }
   ],
   "source": [
    "(y_pred[:20])\n",
    "(y_test[:20])"
   ]
  },
  {
   "cell_type": "code",
   "execution_count": 217,
   "id": "48bc8f77-d1c5-4f44-9c0c-7a43095586b3",
   "metadata": {},
   "outputs": [],
   "source": [
    "from sklearn.metrics import f1_score, confusion_matrix"
   ]
  },
  {
   "cell_type": "code",
   "execution_count": 219,
   "id": "098ea6a1-3380-4d62-af85-91bc857b0e5a",
   "metadata": {},
   "outputs": [
    {
     "data": {
      "text/plain": [
       "0.3333333333333333"
      ]
     },
     "execution_count": 219,
     "metadata": {},
     "output_type": "execute_result"
    }
   ],
   "source": [
    "from sklearn.metrics import accuracy_score, confusion_matrix\n",
    "\n",
    "accuracy = accuracy_score(y_test, y_pred)\n",
    "conf_matrix = confusion_matrix(y_test, y_pred)\n",
    "accuracy"
   ]
  },
  {
   "cell_type": "code",
   "execution_count": 173,
   "id": "7bbeac5d-4312-4d19-b864-02e64e1d27f9",
   "metadata": {},
   "outputs": [
    {
     "data": {
      "text/plain": [
       "array([[0, 2, 0],\n",
       "       [0, 2, 0],\n",
       "       [0, 2, 0]], dtype=int64)"
      ]
     },
     "execution_count": 173,
     "metadata": {},
     "output_type": "execute_result"
    }
   ],
   "source": [
    "conf_matrix"
   ]
  },
  {
   "cell_type": "code",
   "execution_count": 175,
   "id": "e246d188-598d-415d-962f-cbcba040affc",
   "metadata": {},
   "outputs": [
    {
     "name": "stdout",
     "output_type": "stream",
     "text": [
      "Accuracy: 0.3333333333333333\n",
      "Confusion Matrix:\n",
      "[[0 2 0]\n",
      " [0 2 0]\n",
      " [0 2 0]]\n",
      "\n",
      "Classification Report:\n",
      "              precision    recall  f1-score   support\n",
      "\n",
      "           0       0.00      0.00      0.00         2\n",
      "           1       0.33      1.00      0.50         2\n",
      "           3       0.00      0.00      0.00         2\n",
      "\n",
      "    accuracy                           0.33         6\n",
      "   macro avg       0.11      0.33      0.17         6\n",
      "weighted avg       0.11      0.33      0.17         6\n",
      "\n"
     ]
    }
   ],
   "source": [
    "from sklearn.metrics import classification_report\n",
    "\n",
    "print(\"Accuracy:\", accuracy)\n",
    "print(\"Confusion Matrix:\")\n",
    "print(conf_matrix)\n",
    "print(\"\\nClassification Report:\")\n",
    "print(classification_report(y_test, y_pred))"
   ]
  },
  {
   "cell_type": "code",
   "execution_count": 177,
   "id": "685eb8bb-68e5-4db4-a5c6-a4b0ba877f58",
   "metadata": {},
   "outputs": [
    {
     "data": {
      "image/png": "[encoded data removed]",
      "text/plain": [
       "<Figure size 640x480 with 2 Axes>"
      ]
     },
     "metadata": {},
     "output_type": "display_data"
    }
   ],
   "source": [
    "from sklearn.metrics import confusion_matrix, ConfusionMatrixDisplay\n",
    "import matplotlib.pyplot as plt\n",
    "\n",
    "# Compute the confusion matrix\n",
    "conf_matrix = confusion_matrix(y_test, y_pred)\n",
    "\n",
    "# Display the confusion matrix\n",
    "disp = ConfusionMatrixDisplay(conf_matrix)\n",
    "disp.plot(cmap=\"Blues\")  # You can change the color map if needed\n",
    "plt.show()"
   ]
  },
  {
   "cell_type": "code",
   "execution_count": 181,
   "id": "b7403f49-7322-4242-8d28-72441a6e5384",
   "metadata": {},
   "outputs": [
    {
     "name": "stdout",
     "output_type": "stream",
     "text": [
      "True Negative: 0\n",
      "False Positive: 2\n",
      "False Negative: 0\n",
      "True Positive: 2\n"
     ]
    }
   ],
   "source": [
    "from sklearn.metrics import confusion_matrix\n",
    "\n",
    "# Compute confusion matrix\n",
    "conf_matrix = confusion_matrix(y_test, y_pred)\n",
    "\n",
    "# Extract values\n",
    "true_negative  = conf_matrix[0][0]  # TN\n",
    "false_positive = conf_matrix[0][1]  # FP\n",
    "false_negative = conf_matrix[1][0]  # FN\n",
    "true_positive  = conf_matrix[1][1]  # TP\n",
    "\n",
    "# Print values\n",
    "print(f\"True Negative: {true_negative}\")\n",
    "print(f\"False Positive: {false_positive}\")\n",
    "print(f\"False Negative: {false_negative}\")\n",
    "print(f\"True Positive: {true_positive}\")\n"
   ]
  },
  {
   "cell_type": "code",
   "execution_count": 183,
   "id": "5a762003-1ce5-4bd2-9430-33364e59a4a2",
   "metadata": {},
   "outputs": [
    {
     "data": {
      "text/plain": [
       "0.6666666666666666"
      ]
     },
     "execution_count": 183,
     "metadata": {},
     "output_type": "execute_result"
    }
   ],
   "source": [
    "Accuracy = (true_positive + true_negative) / (true_positive +false_positive)\n",
    "Accuracy\n",
    "# Precison\n",
    "Precision = true_positive/(true_positive+false_positive)\n",
    "Precision\n",
    "# Recall\n",
    "Recall = true_positive/(true_positive+false_negative)\n",
    "Recall\n",
    "# F1 Score\n",
    "F1_Score = 2*(Recall * Precision) / (Recall + Precision)\n",
    "F1_Score"
   ]
  },
  {
   "cell_type": "code",
   "execution_count": 185,
   "id": "75faa040-0540-4b1e-b0a5-9a131588ba5c",
   "metadata": {},
   "outputs": [
    {
     "data": {
      "text/plain": [
       "0.5"
      ]
     },
     "execution_count": 185,
     "metadata": {},
     "output_type": "execute_result"
    }
   ],
   "source": [
    "Accuracy"
   ]
  },
  {
   "cell_type": "code",
   "execution_count": 187,
   "id": "e8f6c1e6-a912-4d2b-bfb9-78915cd0a4a3",
   "metadata": {},
   "outputs": [
    {
     "data": {
      "text/plain": [
       "0.5"
      ]
     },
     "execution_count": 187,
     "metadata": {},
     "output_type": "execute_result"
    }
   ],
   "source": [
    "Precision"
   ]
  },
  {
   "cell_type": "code",
   "execution_count": 189,
   "id": "89b978b4-7650-4da2-8913-5a805d58d5b4",
   "metadata": {},
   "outputs": [
    {
     "data": {
      "text/plain": [
       "1.0"
      ]
     },
     "execution_count": 189,
     "metadata": {},
     "output_type": "execute_result"
    }
   ],
   "source": [
    "Recall"
   ]
  },
  {
   "cell_type": "code",
   "execution_count": 191,
   "id": "d3e6a836-9514-4f33-b4f1-980d64009dc1",
   "metadata": {},
   "outputs": [
    {
     "data": {
      "text/plain": [
       "0.6666666666666666"
      ]
     },
     "execution_count": 191,
     "metadata": {},
     "output_type": "execute_result"
    }
   ],
   "source": [
    "F1_Score"
   ]
  },
  {
   "cell_type": "code",
   "execution_count": 209,
   "id": "97f3785f-1bc8-4fb9-bfe4-dd0f8fea5806",
   "metadata": {},
   "outputs": [
    {
     "data": {
      "text/plain": [
       "<Axes: >"
      ]
     },
     "execution_count": 209,
     "metadata": {},
     "output_type": "execute_result"
    },
    {
     "data": {
      "image/png": "[encoded data removed]",
      "text/plain": [
       "<Figure size 640x480 with 2 Axes>"
      ]
     },
     "metadata": {},
     "output_type": "display_data"
    }
   ],
   "source": [
    "sns.heatmap(conf_matrix, annot=True)"
   ]
  },
  {
   "cell_type": "code",
   "execution_count": 211,
   "id": "28cb5fb9-bb00-48b8-bc4d-48e45fe88c1c",
   "metadata": {},
   "outputs": [
    {
     "data": {
      "image/png": "[encoded data removed]",
      "text/plain": [
       "<Figure size 640x480 with 1 Axes>"
      ]
     },
     "metadata": {},
     "output_type": "display_data"
    }
   ],
   "source": [
    "from matplotlib.colors import ListedColormap\n",
    "X_set, y_set = X_train, y_train\n",
    "X1, X2 = np.meshgrid(np.arange(start = X_set[:, 0].min() - 1, stop = X_set[:, 0].max() + 1, step = 0.01),\n",
    "                     np.arange(start = X_set[:, 1].min() - 1, stop = X_set[:, 1].max() + 1, step = 0.01))\n",
    "plt.contourf(X1, X2, classifier.predict(np.array([X1.ravel(), X2.ravel()]).T).reshape(X1.shape),\n",
    "             alpha = 0.6, cmap = ListedColormap(('red', 'green')))\n",
    "plt.xlim(X1.min(), X1.max())\n",
    "plt.ylim(X2.min(), X2.max())\n",
    "for i, j in enumerate(np.unique(y_set)):\n",
    "    plt.scatter(X_set[y_set == j, 0], X_set[y_set == j, 1],\n",
    "                c = ListedColormap(('red', 'green'))(i), label = j)\n",
    "plt.title('Logistic Regression (Training set)')\n",
    "plt.xlabel('Age')\n",
    "plt.ylabel('Estimated Salary')\n",
    "plt.legend()\n",
    "plt.show()"
   ]
  },
  {
   "cell_type": "code",
   "execution_count": 213,
   "id": "681e3905-2c37-4fa7-9e32-18d1ac23aa3a",
   "metadata": {},
   "outputs": [
    {
     "data": {
      "image/png": "[encoded data removed]",
      "text/plain": [
       "<Figure size 640x480 with 1 Axes>"
      ]
     },
     "metadata": {},
     "output_type": "display_data"
    }
   ],
   "source": [
    "from matplotlib.colors import ListedColormap\n",
    "X_set, y_set = X_test, y_test\n",
    "X1, X2 = np.meshgrid(np.arange(start = X_set[:, 0].min() - 1, stop = X_set[:, 0].max() + 1, step = 0.01),\n",
    "                     np.arange(start = X_set[:, 1].min() - 1, stop = X_set[:, 1].max() + 1, step = 0.01))\n",
    "plt.contourf(X1, X2, classifier.predict(np.array([X1.ravel(), X2.ravel()]).T).reshape(X1.shape),\n",
    "             alpha = 0.6, cmap = ListedColormap(('red', 'green')))\n",
    "plt.xlim(X1.min(), X1.max())\n",
    "plt.ylim(X2.min(), X2.max())\n",
    "for i, j in enumerate(np.unique(y_set)):\n",
    "    plt.scatter(X_set[y_set == j, 0], X_set[y_set == j, 1],\n",
    "                c = ListedColormap(('red', 'green'))(i), label = j)\n",
    "plt.title('Logistic Regression (Test set)')\n",
    "plt.xlabel('Age')\n",
    "plt.ylabel('Estimated Salary')\n",
    "plt.legend()\n",
    "plt.show()"
   ]
  },
  {
   "cell_type": "code",
   "execution_count": null,
   "id": "0c3209ae-dc38-4b55-bb4a-609b66bea84c",
   "metadata": {},
   "outputs": [],
   "source": []
  }
 ],
 "metadata": {
  "kernelspec": {
   "display_name": "Python [conda env:base] *",
   "language": "python",
   "name": "conda-base-py"
  },
  "language_info": {
   "codemirror_mode": {
    "name": "ipython",
    "version": 3
   },
   "file_extension": ".py",
   "mimetype": "text/x-python",
   "name": "python",
   "nbconvert_exporter": "python",
   "pygments_lexer": "ipython3",
   "version": "3.12.7"
  }
 },
 "nbformat": 4,
 "nbformat_minor": 5
}
